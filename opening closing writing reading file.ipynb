{
 "cells": [
  {
   "cell_type": "code",
   "execution_count": 1,
   "id": "72903c24",
   "metadata": {},
   "outputs": [],
   "source": [
    "f=open(\"test1.txt\",'wb')"
   ]
  },
  {
   "cell_type": "code",
   "execution_count": 2,
   "id": "13ee20ea",
   "metadata": {},
   "outputs": [],
   "source": [
    "f.close()"
   ]
  },
  {
   "cell_type": "code",
   "execution_count": 3,
   "id": "3bbaf4a9",
   "metadata": {},
   "outputs": [],
   "source": [
    "f = open(\"test1.txt\",'a')"
   ]
  },
  {
   "cell_type": "code",
   "execution_count": 4,
   "id": "142dd1e8",
   "metadata": {},
   "outputs": [
    {
     "data": {
      "text/plain": [
       "15"
      ]
     },
     "execution_count": 4,
     "metadata": {},
     "output_type": "execute_result"
    }
   ],
   "source": [
    "f.write(\"hi how are you \")"
   ]
  },
  {
   "cell_type": "code",
   "execution_count": 5,
   "id": "885a7279",
   "metadata": {},
   "outputs": [],
   "source": [
    "f.close()"
   ]
  },
  {
   "cell_type": "code",
   "execution_count": 6,
   "id": "560c0b43",
   "metadata": {},
   "outputs": [],
   "source": [
    "f = open(\"test1.txt\",\"w\")"
   ]
  },
  {
   "cell_type": "code",
   "execution_count": 7,
   "id": "0afda3ce",
   "metadata": {},
   "outputs": [
    {
     "data": {
      "text/plain": [
       "7"
      ]
     },
     "execution_count": 7,
     "metadata": {},
     "output_type": "execute_result"
    }
   ],
   "source": [
    "f.write(\"im fine\")"
   ]
  },
  {
   "cell_type": "code",
   "execution_count": 8,
   "id": "d376cd70",
   "metadata": {},
   "outputs": [],
   "source": [
    "f.close()"
   ]
  },
  {
   "cell_type": "code",
   "execution_count": 9,
   "id": "0c6f241b",
   "metadata": {},
   "outputs": [],
   "source": [
    "f=open(\"test1.txt\",'a')"
   ]
  },
  {
   "cell_type": "code",
   "execution_count": 10,
   "id": "22eab44d",
   "metadata": {},
   "outputs": [
    {
     "data": {
      "text/plain": [
       "7"
      ]
     },
     "execution_count": 10,
     "metadata": {},
     "output_type": "execute_result"
    }
   ],
   "source": [
    "f.write(\"got you\")"
   ]
  },
  {
   "cell_type": "code",
   "execution_count": 11,
   "id": "75cc42a3",
   "metadata": {},
   "outputs": [],
   "source": [
    "f.close()"
   ]
  },
  {
   "cell_type": "code",
   "execution_count": 12,
   "id": "6d44e495",
   "metadata": {},
   "outputs": [],
   "source": [
    "f=open(\"test1.txt\",'r')"
   ]
  },
  {
   "cell_type": "code",
   "execution_count": 13,
   "id": "29bcf261",
   "metadata": {},
   "outputs": [
    {
     "data": {
      "text/plain": [
       "'im finegot you'"
      ]
     },
     "execution_count": 13,
     "metadata": {},
     "output_type": "execute_result"
    }
   ],
   "source": [
    "f.read()"
   ]
  },
  {
   "cell_type": "code",
   "execution_count": 14,
   "id": "57b84585",
   "metadata": {},
   "outputs": [
    {
     "data": {
      "text/plain": [
       "7"
      ]
     },
     "execution_count": 14,
     "metadata": {},
     "output_type": "execute_result"
    }
   ],
   "source": [
    "f.seek(7)"
   ]
  },
  {
   "cell_type": "code",
   "execution_count": 15,
   "id": "4b89feb1",
   "metadata": {},
   "outputs": [
    {
     "data": {
      "text/plain": [
       "'got you'"
      ]
     },
     "execution_count": 15,
     "metadata": {},
     "output_type": "execute_result"
    }
   ],
   "source": [
    "f.read()"
   ]
  },
  {
   "cell_type": "code",
   "execution_count": 16,
   "id": "e383ec43",
   "metadata": {},
   "outputs": [],
   "source": [
    "f = open(\"test1.txt\",'wb')"
   ]
  },
  {
   "cell_type": "code",
   "execution_count": 17,
   "id": "1bcbf041",
   "metadata": {},
   "outputs": [],
   "source": [
    "f.close()"
   ]
  },
  {
   "cell_type": "code",
   "execution_count": 18,
   "id": "483d8e94",
   "metadata": {},
   "outputs": [],
   "source": [
    "f = open(\"test1.txt\",'r')"
   ]
  },
  {
   "cell_type": "code",
   "execution_count": 19,
   "id": "3e036ad4",
   "metadata": {},
   "outputs": [
    {
     "data": {
      "text/plain": [
       "''"
      ]
     },
     "execution_count": 19,
     "metadata": {},
     "output_type": "execute_result"
    }
   ],
   "source": [
    "f.read()"
   ]
  },
  {
   "cell_type": "code",
   "execution_count": 20,
   "id": "abdb436c",
   "metadata": {},
   "outputs": [],
   "source": [
    "f = open(\"test1.txt\",'wb')"
   ]
  },
  {
   "cell_type": "code",
   "execution_count": 21,
   "id": "6dbb724b",
   "metadata": {},
   "outputs": [
    {
     "data": {
      "text/plain": [
       "15"
      ]
     },
     "execution_count": 21,
     "metadata": {},
     "output_type": "execute_result"
    }
   ],
   "source": [
    "f.write(b\"hi how are you \")"
   ]
  },
  {
   "cell_type": "code",
   "execution_count": 22,
   "id": "7d629806",
   "metadata": {},
   "outputs": [],
   "source": [
    "f.close()"
   ]
  },
  {
   "cell_type": "code",
   "execution_count": 23,
   "id": "e68a6e3b",
   "metadata": {},
   "outputs": [],
   "source": [
    "f = open(\"test1.txt\",'rb')"
   ]
  },
  {
   "cell_type": "code",
   "execution_count": 24,
   "id": "82a57e55",
   "metadata": {},
   "outputs": [
    {
     "data": {
      "text/plain": [
       "b'hi how are you '"
      ]
     },
     "execution_count": 24,
     "metadata": {},
     "output_type": "execute_result"
    }
   ],
   "source": [
    "f.read()"
   ]
  },
  {
   "cell_type": "code",
   "execution_count": 25,
   "id": "8f37e672",
   "metadata": {},
   "outputs": [
    {
     "data": {
      "text/plain": [
       "13"
      ]
     },
     "execution_count": 25,
     "metadata": {},
     "output_type": "execute_result"
    }
   ],
   "source": [
    "f.seek(-2,2)"
   ]
  },
  {
   "cell_type": "code",
   "execution_count": 26,
   "id": "9dcee630",
   "metadata": {},
   "outputs": [
    {
     "data": {
      "text/plain": [
       "b'u '"
      ]
     },
     "execution_count": 26,
     "metadata": {},
     "output_type": "execute_result"
    }
   ],
   "source": [
    "f.read()"
   ]
  },
  {
   "cell_type": "code",
   "execution_count": 27,
   "id": "36e34a0f",
   "metadata": {},
   "outputs": [],
   "source": [
    "f = open(\"test1.txt\",\"w\")"
   ]
  },
  {
   "cell_type": "code",
   "execution_count": 28,
   "id": "078b79bc",
   "metadata": {},
   "outputs": [
    {
     "data": {
      "text/plain": [
       "21"
      ]
     },
     "execution_count": 28,
     "metadata": {},
     "output_type": "execute_result"
    }
   ],
   "source": [
    "f.write(\"kjhfdg kljdf gljkf gd\")"
   ]
  },
  {
   "cell_type": "code",
   "execution_count": 29,
   "id": "7f911194",
   "metadata": {},
   "outputs": [],
   "source": [
    "f.close()"
   ]
  },
  {
   "cell_type": "code",
   "execution_count": 30,
   "id": "6027b2a8",
   "metadata": {},
   "outputs": [],
   "source": [
    "f = open(\"test1.txt\",\"r\")"
   ]
  },
  {
   "cell_type": "code",
   "execution_count": 31,
   "id": "aace692d",
   "metadata": {},
   "outputs": [
    {
     "data": {
      "text/plain": [
       "'kjhfdg kljdf gljkf gd'"
      ]
     },
     "execution_count": 31,
     "metadata": {},
     "output_type": "execute_result"
    }
   ],
   "source": [
    "f.read()"
   ]
  },
  {
   "cell_type": "code",
   "execution_count": 32,
   "id": "779ac00f",
   "metadata": {},
   "outputs": [
    {
     "data": {
      "text/plain": [
       "0"
      ]
     },
     "execution_count": 32,
     "metadata": {},
     "output_type": "execute_result"
    }
   ],
   "source": [
    "f.seek(0)"
   ]
  },
  {
   "cell_type": "code",
   "execution_count": 33,
   "id": "a121afa5",
   "metadata": {},
   "outputs": [
    {
     "data": {
      "text/plain": [
       "'kjhfdg kljdf gljkf gd'"
      ]
     },
     "execution_count": 33,
     "metadata": {},
     "output_type": "execute_result"
    }
   ],
   "source": [
    "f.read()"
   ]
  },
  {
   "cell_type": "code",
   "execution_count": 34,
   "id": "4848b980",
   "metadata": {},
   "outputs": [],
   "source": [
    "f.close()"
   ]
  },
  {
   "cell_type": "code",
   "execution_count": 35,
   "id": "be1e9994",
   "metadata": {},
   "outputs": [],
   "source": [
    "f = open(\"test1.txt\",\"r\")"
   ]
  },
  {
   "cell_type": "code",
   "execution_count": 36,
   "id": "49f8b24f",
   "metadata": {},
   "outputs": [
    {
     "data": {
      "text/plain": [
       "'kjhfdg kljdf gljkf gd'"
      ]
     },
     "execution_count": 36,
     "metadata": {},
     "output_type": "execute_result"
    }
   ],
   "source": [
    "f.readline()"
   ]
  },
  {
   "cell_type": "code",
   "execution_count": 37,
   "id": "5b86d1cd",
   "metadata": {},
   "outputs": [
    {
     "data": {
      "text/plain": [
       "''"
      ]
     },
     "execution_count": 37,
     "metadata": {},
     "output_type": "execute_result"
    }
   ],
   "source": [
    "f.readline()"
   ]
  },
  {
   "cell_type": "code",
   "execution_count": 38,
   "id": "2253184f",
   "metadata": {},
   "outputs": [
    {
     "data": {
      "text/plain": [
       "''"
      ]
     },
     "execution_count": 38,
     "metadata": {},
     "output_type": "execute_result"
    }
   ],
   "source": [
    "f.readline()"
   ]
  },
  {
   "cell_type": "code",
   "execution_count": 39,
   "id": "4dd3dbfc",
   "metadata": {},
   "outputs": [
    {
     "data": {
      "text/plain": [
       "''"
      ]
     },
     "execution_count": 39,
     "metadata": {},
     "output_type": "execute_result"
    }
   ],
   "source": [
    "f.readline()"
   ]
  },
  {
   "cell_type": "code",
   "execution_count": 40,
   "id": "74bdbcb9",
   "metadata": {},
   "outputs": [
    {
     "data": {
      "text/plain": [
       "''"
      ]
     },
     "execution_count": 40,
     "metadata": {},
     "output_type": "execute_result"
    }
   ],
   "source": [
    "f.readline()"
   ]
  },
  {
   "cell_type": "code",
   "execution_count": 41,
   "id": "5fe44778",
   "metadata": {},
   "outputs": [
    {
     "data": {
      "text/plain": [
       "''"
      ]
     },
     "execution_count": 41,
     "metadata": {},
     "output_type": "execute_result"
    }
   ],
   "source": [
    "f.readline(3)"
   ]
  },
  {
   "cell_type": "code",
   "execution_count": 42,
   "id": "00c75416",
   "metadata": {},
   "outputs": [],
   "source": [
    "f.close()"
   ]
  },
  {
   "cell_type": "code",
   "execution_count": 43,
   "id": "a552c701",
   "metadata": {},
   "outputs": [],
   "source": [
    "f = open(\"test1.txt\",\"r\")"
   ]
  },
  {
   "cell_type": "code",
   "execution_count": 44,
   "id": "dc978a43",
   "metadata": {},
   "outputs": [
    {
     "name": "stdout",
     "output_type": "stream",
     "text": [
      "kjhfdg kljdf gljkf gd "
     ]
    }
   ],
   "source": [
    "for i in f:\n",
    "    print(i , end = \" \")"
   ]
  },
  {
   "cell_type": "code",
   "execution_count": 45,
   "id": "c1055b33",
   "metadata": {},
   "outputs": [],
   "source": [
    "f.close()"
   ]
  },
  {
   "cell_type": "code",
   "execution_count": 46,
   "id": "0dc10297",
   "metadata": {},
   "outputs": [],
   "source": [
    "f = open(\"test1.txt\",\"r+\")"
   ]
  },
  {
   "cell_type": "code",
   "execution_count": 47,
   "id": "5a657c64",
   "metadata": {},
   "outputs": [
    {
     "data": {
      "text/plain": [
       "['kjhfdg kljdf gljkf gd']"
      ]
     },
     "execution_count": 47,
     "metadata": {},
     "output_type": "execute_result"
    }
   ],
   "source": [
    "list(f)"
   ]
  },
  {
   "cell_type": "code",
   "execution_count": 48,
   "id": "0afc780b",
   "metadata": {},
   "outputs": [
    {
     "data": {
      "text/plain": [
       "15"
      ]
     },
     "execution_count": 48,
     "metadata": {},
     "output_type": "execute_result"
    }
   ],
   "source": [
    "f.write(\"yes i was there\")"
   ]
  },
  {
   "cell_type": "code",
   "execution_count": 49,
   "id": "445af0f5",
   "metadata": {},
   "outputs": [],
   "source": [
    "f.close()"
   ]
  },
  {
   "cell_type": "code",
   "execution_count": 50,
   "id": "c365b488",
   "metadata": {},
   "outputs": [],
   "source": [
    "f = open(\"test1.txt\",\"r+\")"
   ]
  },
  {
   "cell_type": "code",
   "execution_count": 51,
   "id": "9da0dd3c",
   "metadata": {},
   "outputs": [],
   "source": [
    "f.writelines(\"yes boss \")"
   ]
  },
  {
   "cell_type": "code",
   "execution_count": null,
   "id": "e8da2ec6",
   "metadata": {},
   "outputs": [],
   "source": []
  },
  {
   "cell_type": "code",
   "execution_count": 52,
   "id": "8c8c9c03",
   "metadata": {},
   "outputs": [
    {
     "data": {
      "text/plain": [
       "3"
      ]
     },
     "execution_count": 52,
     "metadata": {},
     "output_type": "execute_result"
    }
   ],
   "source": [
    "f.seek(3)"
   ]
  },
  {
   "cell_type": "code",
   "execution_count": 53,
   "id": "89e18ff4",
   "metadata": {},
   "outputs": [],
   "source": [
    "f.writelines(\"owsem\")"
   ]
  },
  {
   "cell_type": "code",
   "execution_count": 54,
   "id": "77c99f80",
   "metadata": {},
   "outputs": [],
   "source": [
    "f.close()"
   ]
  },
  {
   "cell_type": "code",
   "execution_count": 55,
   "id": "a4c1c813",
   "metadata": {},
   "outputs": [],
   "source": [
    "f = open(\"test1.txt\",\"r+\")"
   ]
  },
  {
   "cell_type": "code",
   "execution_count": 56,
   "id": "eac3d20d",
   "metadata": {},
   "outputs": [
    {
     "data": {
      "text/plain": [
       "73"
      ]
     },
     "execution_count": 56,
     "metadata": {},
     "output_type": "execute_result"
    }
   ],
   "source": [
    "f.fileno()"
   ]
  },
  {
   "cell_type": "code",
   "execution_count": 57,
   "id": "31d18ab0",
   "metadata": {},
   "outputs": [
    {
     "name": "stdout",
     "output_type": "stream",
     "text": [
      "Overwriting test1.txt\n"
     ]
    }
   ],
   "source": [
    "%%writefile test1.txt\n",
    "my name is khan"
   ]
  },
  {
   "cell_type": "code",
   "execution_count": 58,
   "id": "8adb2b13",
   "metadata": {},
   "outputs": [
    {
     "data": {
      "text/plain": [
       "'my name is khan\\n'"
      ]
     },
     "execution_count": 58,
     "metadata": {},
     "output_type": "execute_result"
    }
   ],
   "source": [
    "f.read()"
   ]
  },
  {
   "cell_type": "code",
   "execution_count": 59,
   "id": "305da87b",
   "metadata": {},
   "outputs": [],
   "source": [
    "import os"
   ]
  },
  {
   "cell_type": "code",
   "execution_count": 60,
   "id": "c2c8941a",
   "metadata": {},
   "outputs": [
    {
     "data": {
      "text/plain": [
       "'/Users/daudkhan'"
      ]
     },
     "execution_count": 60,
     "metadata": {},
     "output_type": "execute_result"
    }
   ],
   "source": [
    "pwd#present working directory"
   ]
  },
  {
   "cell_type": "code",
   "execution_count": 61,
   "id": "472e833a",
   "metadata": {},
   "outputs": [
    {
     "data": {
      "text/plain": [
       "b'/Users/daudkhan'"
      ]
     },
     "execution_count": 61,
     "metadata": {},
     "output_type": "execute_result"
    }
   ],
   "source": [
    "os.getcwdb()# the real location"
   ]
  },
  {
   "cell_type": "code",
   "execution_count": 62,
   "id": "1a1e2e67",
   "metadata": {},
   "outputs": [
    {
     "data": {
      "text/plain": [
       "['Untitled10.ipynb',\n",
       " 'Untitled7.ipynb',\n",
       " '.config',\n",
       " 'Music',\n",
       " 'mine_array.npy',\n",
       " 'String and list manipulation part 2.ipynb',\n",
       " '.condarc',\n",
       " 'classes and objects.ipynb',\n",
       " 'xyz.txt',\n",
       " 'Untitled12.ipynb',\n",
       " 'Untitled5.ipynb',\n",
       " 'my_numpyarray.npy',\n",
       " 'Untitled1.ipynb',\n",
       " 'python args.ipynb',\n",
       " 'Untitled16.ipynb',\n",
       " '.DS_Store',\n",
       " 'test1.txt',\n",
       " 'debugging.ipynb',\n",
       " 'get-pip.py',\n",
       " '.CFUserTextEncoding',\n",
       " 'logging debugging part 2.ipynb',\n",
       " '.xonshrc',\n",
       " 'Untitled3.ipynb',\n",
       " 'Untitled14.ipynb',\n",
       " 'Untitled.ipynb',\n",
       " '.zshrc',\n",
       " 'Untitled4.ipynb',\n",
       " 'tuple set in Full Detail .ipynb',\n",
       " 'Untitled13.ipynb',\n",
       " 'list.ipynb',\n",
       " 'Untitled6.ipynb',\n",
       " 'Pictures',\n",
       " 'Untitled11.ipynb',\n",
       " '.zprofile',\n",
       " ' stings and list Manipulation.ipynb',\n",
       " 'if else conditions and while loop.ipynb',\n",
       " 'Dictionary in Python Explained.ipynb',\n",
       " 'Lists.ipynb',\n",
       " '.zsh_history',\n",
       " 'Untitled2.ipynb',\n",
       " 'For loop and Range Function.ipynb',\n",
       " '.ipython',\n",
       " 'Desktop',\n",
       " 'Library',\n",
       " 'lists1.ipynb',\n",
       " '.matplotlib',\n",
       " 'Untitled17.ipynb',\n",
       " 'Variable & Strings.ipynb',\n",
       " '.nuuid.ini',\n",
       " 'pip',\n",
       " 'classes and objects2.ipynb',\n",
       " 'input function.ipynb',\n",
       " 'task logging.ipynb',\n",
       " 'oops.ipynb',\n",
       " 'logging & debugging.ipynb',\n",
       " 'if else stat while loop.ipynb',\n",
       " 'PycharmProjects',\n",
       " 'Public',\n",
       " 'tuple and set1.ipynb',\n",
       " 'dictionary in python detail.ipynb',\n",
       " '.idlerc',\n",
       " '.tcshrc',\n",
       " '.anaconda',\n",
       " 'Untitled8.ipynb',\n",
       " 'strings manipulation part-2 Complete.ipynb',\n",
       " 'DIctionaries.ipynb',\n",
       " 'Movies',\n",
       " 'Applications',\n",
       " 'opening closing writing reading file.ipynb',\n",
       " 'khan',\n",
       " 'tuple and sets.ipynb',\n",
       " 'opt',\n",
       " 'log',\n",
       " '.Trash',\n",
       " 'test2.log',\n",
       " 'multiple conditions & While loop.ipynb',\n",
       " '.ipynb_checkpoints',\n",
       " 'tuple and set.ipynb',\n",
       " 'functions in pythonn.ipynb',\n",
       " '.jupyter',\n",
       " 'Documents',\n",
       " 'creating ,reading, writing operations in python.ipynb',\n",
       " 'tuple set.ipynb',\n",
       " '.mono',\n",
       " '.vscode',\n",
       " '.bash_profile',\n",
       " 'Input Function in Python.ipynb',\n",
       " 'Downloads',\n",
       " '.continuum',\n",
       " 'Untitled9.ipynb',\n",
       " 'Functions in python.ipynb',\n",
       " 'logging',\n",
       " '.zsh_sessions',\n",
       " 'Variable and Strings.ipynb',\n",
       " '.conda']"
      ]
     },
     "execution_count": 62,
     "metadata": {},
     "output_type": "execute_result"
    }
   ],
   "source": [
    "os.listdir()# all the list avalible in this directry"
   ]
  },
  {
   "cell_type": "code",
   "execution_count": 63,
   "id": "32f2a051",
   "metadata": {},
   "outputs": [
    {
     "data": {
      "text/plain": [
       "['.localized', 'daudkhan', 'Shared']"
      ]
     },
     "execution_count": 63,
     "metadata": {},
     "output_type": "execute_result"
    }
   ],
   "source": [
    "os.listdir(\"/Users\")"
   ]
  },
  {
   "cell_type": "code",
   "execution_count": 64,
   "id": "58f65ac3",
   "metadata": {},
   "outputs": [
    {
     "data": {
      "text/plain": [
       "'/Users/daudkhan'"
      ]
     },
     "execution_count": 64,
     "metadata": {},
     "output_type": "execute_result"
    }
   ],
   "source": [
    "pwd"
   ]
  },
  {
   "cell_type": "code",
   "execution_count": 65,
   "id": "ca470137",
   "metadata": {},
   "outputs": [
    {
     "data": {
      "text/plain": [
       "'/Users/daudkhan'"
      ]
     },
     "execution_count": 65,
     "metadata": {},
     "output_type": "execute_result"
    }
   ],
   "source": [
    "os.getcwd()"
   ]
  },
  {
   "cell_type": "code",
   "execution_count": 66,
   "id": "73ae9602",
   "metadata": {},
   "outputs": [],
   "source": [
    "os.chdir('/Users')"
   ]
  },
  {
   "cell_type": "code",
   "execution_count": 67,
   "id": "4756d8ab",
   "metadata": {},
   "outputs": [
    {
     "data": {
      "text/plain": [
       "'/Users'"
      ]
     },
     "execution_count": 67,
     "metadata": {},
     "output_type": "execute_result"
    }
   ],
   "source": [
    "pwd"
   ]
  },
  {
   "cell_type": "code",
   "execution_count": 68,
   "id": "089bd752",
   "metadata": {},
   "outputs": [],
   "source": [
    "os.chdir('/Users/daudkhan')"
   ]
  },
  {
   "cell_type": "code",
   "execution_count": 69,
   "id": "e7f4e353",
   "metadata": {},
   "outputs": [
    {
     "data": {
      "text/plain": [
       "'/Users/daudkhan'"
      ]
     },
     "execution_count": 69,
     "metadata": {},
     "output_type": "execute_result"
    }
   ],
   "source": [
    "pwd"
   ]
  },
  {
   "cell_type": "code",
   "execution_count": 70,
   "id": "da584fa5",
   "metadata": {},
   "outputs": [
    {
     "ename": "FileExistsError",
     "evalue": "[Errno 17] File exists: 'khan'",
     "output_type": "error",
     "traceback": [
      "\u001b[0;31m---------------------------------------------------------------------------\u001b[0m",
      "\u001b[0;31mFileExistsError\u001b[0m                           Traceback (most recent call last)",
      "Input \u001b[0;32mIn [70]\u001b[0m, in \u001b[0;36m<cell line: 1>\u001b[0;34m()\u001b[0m\n\u001b[0;32m----> 1\u001b[0m \u001b[43mos\u001b[49m\u001b[38;5;241;43m.\u001b[39;49m\u001b[43mmkdir\u001b[49m\u001b[43m(\u001b[49m\u001b[38;5;124;43m\"\u001b[39;49m\u001b[38;5;124;43mkhan\u001b[39;49m\u001b[38;5;124;43m\"\u001b[39;49m\u001b[43m)\u001b[49m\n",
      "\u001b[0;31mFileExistsError\u001b[0m: [Errno 17] File exists: 'khan'"
     ]
    }
   ],
   "source": [
    "os.mkdir(\"khan\")"
   ]
  },
  {
   "cell_type": "code",
   "execution_count": 71,
   "id": "4710f431",
   "metadata": {},
   "outputs": [
    {
     "name": "stdout",
     "output_type": "stream",
     "text": [
      "This file is avalible\n",
      "<_io.TextIOWrapper name='test1.txt' mode='r+' encoding='UTF-8'>\n"
     ]
    }
   ],
   "source": [
    "if \"test1.txt\" in os.listdir():\n",
    "    print(\"This file is avalible\")\n",
    "    f = open(\"test1.txt\",\"r+\")\n",
    "    print(f)\n",
    "else:\n",
    "    print(\"no filel found\")"
   ]
  },
  {
   "cell_type": "code",
   "execution_count": 72,
   "id": "881a946c",
   "metadata": {},
   "outputs": [
    {
     "name": "stdout",
     "output_type": "stream",
     "text": [
      "This file is avalible\n",
      "which school do you study?\n"
     ]
    }
   ],
   "source": [
    "if \"test1.txt\" in os.listdir():\n",
    "    print(\"This file is avalible\")\n",
    "    f = open(\"test1.txt\",\"r+\")\n",
    "    for i in f:\n",
    "        print(\"which school do you study?\")\n",
    "else:\n",
    "    print(\"no filel found\")"
   ]
  },
  {
   "cell_type": "code",
   "execution_count": 73,
   "id": "bcb4b070",
   "metadata": {},
   "outputs": [],
   "source": [
    "if not os.path.isdir(\"khan\"):\n",
    "    os.mkdir(\"khana\")"
   ]
  },
  {
   "cell_type": "code",
   "execution_count": 74,
   "id": "f2c78a6b",
   "metadata": {},
   "outputs": [],
   "source": [
    "os.rename(\"test1.txt\",\"xyz.txt\")#renaming"
   ]
  },
  {
   "cell_type": "code",
   "execution_count": 75,
   "id": "42799fef",
   "metadata": {},
   "outputs": [
    {
     "ename": "FileNotFoundError",
     "evalue": "[Errno 2] No such file or directory: 'test.log'",
     "output_type": "error",
     "traceback": [
      "\u001b[0;31m---------------------------------------------------------------------------\u001b[0m",
      "\u001b[0;31mFileNotFoundError\u001b[0m                         Traceback (most recent call last)",
      "Input \u001b[0;32mIn [75]\u001b[0m, in \u001b[0;36m<cell line: 1>\u001b[0;34m()\u001b[0m\n\u001b[0;32m----> 1\u001b[0m \u001b[43mos\u001b[49m\u001b[38;5;241;43m.\u001b[39;49m\u001b[43mremove\u001b[49m\u001b[43m(\u001b[49m\u001b[38;5;124;43m\"\u001b[39;49m\u001b[38;5;124;43mtest.log\u001b[39;49m\u001b[38;5;124;43m\"\u001b[39;49m\u001b[43m)\u001b[49m\n",
      "\u001b[0;31mFileNotFoundError\u001b[0m: [Errno 2] No such file or directory: 'test.log'"
     ]
    }
   ],
   "source": [
    "os.remove(\"test.log\")#removing "
   ]
  },
  {
   "cell_type": "code",
   "execution_count": 76,
   "id": "57857815",
   "metadata": {},
   "outputs": [],
   "source": [
    "#moving file from one place to another\n",
    "import shutil"
   ]
  },
  {
   "cell_type": "code",
   "execution_count": null,
   "id": "fc354d6e",
   "metadata": {},
   "outputs": [],
   "source": [
    "shutil.move(\"location\",\"destinationlocation\")"
   ]
  }
 ],
 "metadata": {
  "kernelspec": {
   "display_name": "Python 3 (ipykernel)",
   "language": "python",
   "name": "python3"
  },
  "language_info": {
   "codemirror_mode": {
    "name": "ipython",
    "version": 3
   },
   "file_extension": ".py",
   "mimetype": "text/x-python",
   "name": "python",
   "nbconvert_exporter": "python",
   "pygments_lexer": "ipython3",
   "version": "3.9.12"
  }
 },
 "nbformat": 4,
 "nbformat_minor": 5
}
